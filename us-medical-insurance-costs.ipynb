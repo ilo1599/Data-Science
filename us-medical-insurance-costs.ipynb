{
 "cells": [
  {
   "cell_type": "markdown",
   "metadata": {},
   "source": [
    "# U.S. Medical Insurance Costs"
   ]
  },
  {
   "cell_type": "markdown",
   "metadata": {},
   "source": [
    "Project goals:\n",
    "AVG age, where majority is from, costs differences (smoker, age, gender, location),"
   ]
  },
  {
   "cell_type": "markdown",
   "metadata": {},
   "source": [
    "Get the path to the file "
   ]
  },
  {
   "cell_type": "code",
   "execution_count": 124,
   "metadata": {},
   "outputs": [],
   "source": [
    "import csv\n",
    "insurance_path = \"/Users/ilo/Desktop/py projects/codecademy projects /PORTFOLIO PROJ /U.S medical/insurance.csv\"\n",
    "age = []\n",
    "sex = []\n",
    "bmi = []\n",
    "Children = []\n",
    "smoker = []\n",
    "region = []\n",
    "charges = []"
   ]
  },
  {
   "cell_type": "markdown",
   "metadata": {},
   "source": [
    "Open the file and assign a delimiter place values in lists. "
   ]
  },
  {
   "cell_type": "code",
   "execution_count": 125,
   "metadata": {},
   "outputs": [],
   "source": [
    "with open(insurance_path) as insurance_csv:\n",
    "    insurance = csv.DictReader(insurance_csv, delimiter = ',')\n",
    "    for row in insurance:\n",
    "        age.append(int(row['age']))\n",
    "        sex.append(row['sex'])\n",
    "        bmi.append(row['bmi'])\n",
    "        Children.append(row['children'])\n",
    "        smoker.append(row['smoker'])\n",
    "        region.append(row['region'])\n",
    "        charges.append(float(row['charges']))\n",
    "        "
   ]
  },
  {
   "cell_type": "markdown",
   "metadata": {},
   "source": [
    "Average age in the data set"
   ]
  },
  {
   "cell_type": "code",
   "execution_count": 126,
   "metadata": {},
   "outputs": [
    {
     "name": "stdout",
     "output_type": "stream",
     "text": [
      "Average age in the dataset is  39.0\n"
     ]
    }
   ],
   "source": [
    "total_age = 0\n",
    "for a in age:\n",
    "    total_age += a\n",
    "avg_age = total_age / len(age)\n",
    "print('Average age in the dataset is ', round(avg_age, 0))"
   ]
  },
  {
   "cell_type": "code",
   "execution_count": 129,
   "metadata": {},
   "outputs": [
    {
     "name": "stdout",
     "output_type": "stream",
     "text": [
      "Population in the North east is 324 \n",
      "Population in the North West is 325 \n",
      "Population in the South East is 364 \n",
      "Population in the South West is 325\n"
     ]
    }
   ],
   "source": [
    "NorthEast = 0 \n",
    "NorthWest = 0 \n",
    "SouthEast = 0\n",
    "SouthWest = 0 \n",
    "\n",
    "for reg in region:\n",
    "    if reg == 'northeast':\n",
    "        NorthEast += 1 \n",
    "    elif reg == 'northwest':\n",
    "        NorthWest += 1\n",
    "    elif reg == 'southeast':\n",
    "        SouthEast += 1 \n",
    "    else: \n",
    "        SouthWest += 1\n",
    "print('Population in the North east is', NorthEast, '\\nPopulation in the North West is', NorthWest, '\\nPopulation in the South East is', SouthEast, '\\nPopulation in the South West is', SouthWest)\n"
   ]
  },
  {
   "cell_type": "code",
   "execution_count": 137,
   "metadata": {},
   "outputs": [
    {
     "name": "stdout",
     "output_type": "stream",
     "text": [
      "Average cost for smokers is 32050.23 \n",
      "Average cost for non smoker is 8434.27\n"
     ]
    }
   ],
   "source": [
    "smoker_charge = [{'smoker': smoker, 'charges': charge} for smoker, charge in zip(smoker, charges)]\n",
    "total_smoker_cost = 0\n",
    "total_non_smoker_cost = 0\n",
    "smokers = 0\n",
    "non_smokers = 0\n",
    "\n",
    "for data in smoker_charge:\n",
    "    if data['smoker'] == 'yes':\n",
    "        total_smoker_cost += data['charges']\n",
    "        smokers += 1\n",
    "    else:\n",
    "        total_non_smoker_cost += data['charges']\n",
    "        non_smokers += 1\n",
    "\n",
    "avg_smoker_cost = round(total_smoker_cost / smokers, 2)\n",
    "avg_non_smoker_cost = round(total_non_smoker_cost / non_smokers, 2)\n",
    "\n",
    "print('Average cost for smokers is', avg_smoker_cost, '\\nAverage cost for non smoker is', avg_non_smoker_cost)"
   ]
  }
 ],
 "metadata": {
  "kernelspec": {
   "display_name": "Python 3",
   "language": "python",
   "name": "python3"
  },
  "language_info": {
   "codemirror_mode": {
    "name": "ipython",
    "version": 3
   },
   "file_extension": ".py",
   "mimetype": "text/x-python",
   "name": "python",
   "nbconvert_exporter": "python",
   "pygments_lexer": "ipython3",
   "version": "3.12.0"
  }
 },
 "nbformat": 4,
 "nbformat_minor": 4
}
